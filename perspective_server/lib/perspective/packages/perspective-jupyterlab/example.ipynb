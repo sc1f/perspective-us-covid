{
 "cells": [
  {
   "cell_type": "code",
   "execution_count": 14,
   "metadata": {},
   "outputs": [],
   "source": [
    "from perspective import psp\n",
    "\n",
    "import pandas as pd\n",
    "import numpy as np\n",
    "import datetime\n",
    "\n",
    "N = 1000"
   ]
  },
  {
   "cell_type": "code",
   "execution_count": 15,
   "metadata": {},
   "outputs": [],
   "source": [
    "dft = pd.DataFrame({\n",
    "    'A': ['spam', 'eggs', 'spam', 'eggs'] * 6 * N,\n",
    "    'B' : ['alpha', 'beta', 'gamma'] * 8 * N,\n",
    "    'C' : [np.random.choice(pd.date_range(datetime.datetime(2012,1,1),datetime.datetime(2013,1,3))) for i in range(24 * N)],\n",
    "    'D' : np.random.randn(24 * N),\n",
    "    'E' : np.random.random_integers(0,4,24 * N)\n",
    "})"
   ]
  },
  {
   "cell_type": "code",
   "execution_count": 16,
   "metadata": {},
   "outputs": [
    {
     "data": {
      "application/psp+json": {
       "config": "",
       "data": "[{\"index\":0,\"A\":\"spam\",\"B\":\"alpha\",\"C\":\"2012-06-25\",\"D\":-1.2736659354,\"E\":2},{\"index\":1,\"A\":\"eggs\",\"B\":\"beta\",\"C\":\"2012-10-15\",\"D\":-1.5088025253,\"E\":3},{\"index\":2,\"A\":\"spam\",\"B\":\"gamma\",\"C\":\"2012-02-03\",\"D\":-1.2107761412,\"E\":2},{\"index\":3,\"A\":\"eggs\",\"B\":\"alpha\",\"C\":\"2012-02-08\",\"D\":0.3245677632,\"E\":0},{\"index\":4,\"A\":\"spam\",\"B\":\"beta\",\"C\":\"2012-03-11\",\"D\":-0.2506916303,\"E\":0},{\"index\":5,\"A\":\"eggs\",\"B\":\"gamma\",\"C\":\"2012-02-27\",\"D\":-0.925268337,\"E\":3},{\"index\":6,\"A\":\"spam\",\"B\":\"alpha\",\"C\":\"2012-02-18\",\"D\":0.3236365596,\"E\":2},{\"index\":7,\"A\":\"eggs\",\"B\":\"beta\",\"C\":\"2012-06-19\",\"D\":-0.618010637,\"E\":4},{\"index\":8,\"A\":\"spam\",\"B\":\"gamma\",\"C\":\"2012-12-21\",\"D\":1.2154668578,\"E\":3},{\"index\":9,\"A\":\"eggs\",\"B\":\"alpha\",\"C\":\"2012-10-05\",\"D\":0.0530491451,\"E\":3},{\"index\":10,\"A\":\"spam\",\"B\":\"beta\",\"C\":\"2012-02-06\",\"D\":-1.1870830796,\"E\":3},{\"index\":11,\"A\":\"eggs\",\"B\":\"gamma\",\"C\":\"2012-01-31\",\"D\":-1.0309926857,\"E\":1},{\"index\":12,\"A\":\"spam\",\"B\":\"alpha\",\"C\":\"2012-04-23\",\"D\":-1.4834375442,\"E\":4},{\"index\":13,\"A\":\"eggs\",\"B\":\"beta\",\"C\":\"2012-11-27\",\"D\":-0.9968220267,\"E\":1},{\"index\":14,\"A\":\"spam\",\"B\":\"gamma\",\"C\":\"2012-06-30\",\"D\":1.2788914333,\"E\":0},{\"index\":15,\"A\":\"eggs\",\"B\":\"alpha\",\"C\":\"2012-07-25\",\"D\":1.3280786605,\"E\":3},{\"index\":16,\"A\":\"spam\",\"B\":\"beta\",\"C\":\"2012-07-16\",\"D\":-0.9771613269,\"E\":1},{\"index\":17,\"A\":\"eggs\",\"B\":\"gamma\",\"C\":\"2012-09-15\",\"D\":0.643049298,\"E\":4},{\"index\":18,\"A\":\"spam\",\"B\":\"alpha\",\"C\":\"2012-01-22\",\"D\":1.0110695687,\"E\":3},{\"index\":19,\"A\":\"eggs\",\"B\":\"beta\",\"C\":\"2013-01-03\",\"D\":0.5174951278,\"E\":0},{\"index\":20,\"A\":\"spam\",\"B\":\"gamma\",\"C\":\"2012-03-25\",\"D\":0.0059429452,\"E\":1},{\"index\":21,\"A\":\"eggs\",\"B\":\"alpha\",\"C\":\"2012-10-13\",\"D\":1.3554346672,\"E\":4},{\"index\":22,\"A\":\"spam\",\"B\":\"beta\",\"C\":\"2012-05-03\",\"D\":-0.4903116508,\"E\":3},{\"index\":23,\"A\":\"eggs\",\"B\":\"gamma\",\"C\":\"2012-07-17\",\"D\":0.0710694387,\"E\":4}]",
       "layout": "{\"view\":\"hypergrid\",\"columns\":\"\",\"row-pivots\":\"\",\"column-pivots\":\"\",\"aggregates\":\"\",\"sort\":\"\",\"settings\":false}",
       "schema": "{\"index\":\"integer\",\"A\":\"string\",\"B\":\"string\",\"C\":\"date\",\"D\":\"float\",\"E\":\"integer\"}"
      }
     },
     "metadata": {},
     "output_type": "display_data"
    }
   ],
   "source": [
    "psp(dft)"
   ]
  }
 ],
 "metadata": {
  "kernelspec": {
   "display_name": "Python 3",
   "language": "python",
   "name": "python3"
  },
  "language_info": {
   "codemirror_mode": {
    "name": "ipython",
    "version": 3
   },
   "file_extension": ".py",
   "mimetype": "text/x-python",
   "name": "python",
   "nbconvert_exporter": "python",
   "pygments_lexer": "ipython3",
   "version": "3.6.6"
  }
 },
 "nbformat": 4,
 "nbformat_minor": 2
}
